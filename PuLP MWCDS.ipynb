{
 "cells": [
  {
   "cell_type": "code",
   "execution_count": 13,
   "id": "bd806f64-c224-4e28-8c39-7ef210cd3785",
   "metadata": {},
   "outputs": [
    {
     "name": "stdout",
     "output_type": "stream",
     "text": [
      "{'1': ['6', '9', '10', '13', '14', '15', '18', '19', '20', '21', '24', '25', '26', '27', '28'], '2': ['5', '8', '10', '12', '14', '15', '17', '19', '20', '21', '23', '25', '26', '27', '28'], '3': ['4', '7', '10', '11', '14', '15', '16', '19', '20', '21', '22', '25', '26', '27', '28'], '4': ['3', '8', '9', '12', '13', '15', '17', '18', '20', '21', '23', '24', '26', '27', '28'], '5': ['2', '7', '9', '11', '13', '15', '16', '18', '20', '21', '22', '24', '26', '27', '28'], '6': ['1', '7', '8', '11', '12', '15', '16', '17', '20', '21', '22', '23', '26', '27', '28'], '7': ['3', '5', '6', '12', '13', '14', '17', '18', '19', '21', '23', '24', '25', '27', '28'], '8': ['2', '4', '6', '11', '13', '14', '16', '18', '19', '21', '22', '24', '25', '27', '28'], '9': ['1', '4', '5', '11', '12', '14', '16', '17', '19', '21', '22', '23', '25', '27', '28'], '10': ['1', '2', '3', '11', '12', '13', '16', '17', '18', '21', '22', '23', '24', '27', '28'], '11': ['3', '5', '6', '8', '9', '10', '17', '18', '19', '20', '23', '24', '25', '26', '28'], '12': ['2', '4', '6', '7', '9', '10', '16', '18', '19', '20', '22', '24', '25', '26', '28'], '13': ['1', '4', '5', '7', '8', '10', '16', '17', '19', '20', '22', '23', '25', '26', '28'], '14': ['1', '2', '3', '7', '8', '9', '16', '17', '18', '20', '22', '23', '24', '26', '28'], '15': ['1', '2', '3', '4', '5', '6', '16', '17', '18', '19', '22', '23', '24', '25', '28'], '16': ['3', '5', '6', '8', '9', '10', '12', '13', '14', '15', '23', '24', '25', '26', '27'], '17': ['2', '4', '6', '7', '9', '10', '11', '13', '14', '15', '22', '24', '25', '26', '27'], '18': ['1', '4', '5', '7', '8', '10', '11', '12', '14', '15', '22', '23', '25', '26', '27'], '19': ['1', '2', '3', '7', '8', '9', '11', '12', '13', '15', '22', '23', '24', '26', '27'], '20': ['1', '2', '3', '4', '5', '6', '11', '12', '13', '14', '22', '23', '24', '25', '27'], '21': ['1', '2', '3', '4', '5', '6', '7', '8', '9', '10', '22', '23', '24', '25', '26'], '22': ['3', '5', '6', '8', '9', '10', '12', '13', '14', '15', '17', '18', '19', '20', '21'], '23': ['2', '4', '6', '7', '9', '10', '11', '13', '14', '15', '16', '18', '19', '20', '21'], '24': ['1', '4', '5', '7', '8', '10', '11', '12', '14', '15', '16', '17', '19', '20', '21'], '25': ['1', '2', '3', '7', '8', '9', '11', '12', '13', '15', '16', '17', '18', '20', '21'], '26': ['1', '2', '3', '4', '5', '6', '11', '12', '13', '14', '16', '17', '18', '19', '21'], '27': ['1', '2', '3', '4', '5', '6', '7', '8', '9', '10', '16', '17', '18', '19', '20'], '28': ['1', '2', '3', '4', '5', '6', '7', '8', '9', '10', '11', '12', '13', '14', '15']}\n"
     ]
    }
   ],
   "source": [
    "from pulp import *\n",
    "from itertools import chain, combinations\n",
    "%run pravljenjeGrafova.ipynb\n",
    "\n",
    "\n",
    "# funkcija za podskupove\n",
    "def powerset(iterable):\n",
    "    s = list(iterable)\n",
    "    return chain.from_iterable(combinations(s, r) for r in range(len(s)+1))\n",
    "\n",
    "\n",
    "# funkcija za susjede\n",
    "def neighbors(x):\n",
    "    n = []\n",
    "    for (i,j) in Eweak:\n",
    "        if i==x and Eweak[i,j] == 1:\n",
    "            n.append(j)\n",
    "    return n\n",
    "\n",
    "\n",
    "# susjedstvo\n",
    "def create_adjacency_dict(graph):\n",
    "    adjacency_dict = {}\n",
    "    \n",
    "    for vertex, neighbors in graph.items():\n",
    "        for neighbor in neighbors:\n",
    "            if int(vertex)!=int(neighbor):\n",
    "                adjacency_dict[(int(vertex), int(neighbor))] = 1\n",
    "    \n",
    "    for vertex in graph:\n",
    "        for other_vertex in graph:\n",
    "            if (int(vertex), int(other_vertex)) not in adjacency_dict and int(vertex)!=int(other_vertex) :\n",
    "                adjacency_dict[(int(vertex), int(other_vertex))] = 0\n",
    "    \n",
    "    return adjacency_dict\n",
    "            \n",
    "    "
   ]
  },
  {
   "cell_type": "code",
   "execution_count": 14,
   "id": "f6bb0fa3",
   "metadata": {},
   "outputs": [
    {
     "name": "stdout",
     "output_type": "stream",
     "text": [
      "{(1, 2): 1, (1, 3): 1, (1, 4): 0, (1, 5): 0, (1, 6): 0, (1, 7): 0, (1, 8): 0, (1, 9): 0, (1, 10): 0, (1, 11): 0, (1, 12): 0, (1, 13): 1, (1, 14): 1, (2, 1): 1, (2, 3): 1, (2, 4): 1, (2, 5): 1, (2, 6): 1, (2, 7): 1, (2, 8): 1, (2, 9): 0, (2, 10): 0, (2, 11): 0, (2, 12): 0, (2, 13): 0, (2, 14): 0, (3, 1): 1, (3, 2): 1, (3, 4): 0, (3, 5): 0, (3, 6): 1, (3, 7): 1, (3, 8): 0, (3, 9): 0, (3, 10): 0, (3, 11): 0, (3, 12): 0, (3, 13): 0, (3, 14): 0, (4, 1): 0, (4, 2): 1, (4, 3): 0, (4, 5): 1, (4, 6): 0, (4, 7): 0, (4, 8): 0, (4, 9): 0, (4, 10): 0, (4, 11): 0, (4, 12): 0, (4, 13): 0, (4, 14): 0, (5, 1): 0, (5, 2): 1, (5, 3): 0, (5, 4): 1, (5, 6): 0, (5, 7): 0, (5, 8): 1, (5, 9): 0, (5, 10): 0, (5, 11): 0, (5, 12): 0, (5, 13): 0, (5, 14): 0, (6, 1): 0, (6, 2): 1, (6, 3): 1, (6, 4): 0, (6, 5): 0, (6, 7): 1, (6, 8): 0, (6, 9): 1, (6, 10): 0, (6, 11): 0, (6, 12): 0, (6, 13): 0, (6, 14): 0, (7, 1): 0, (7, 2): 1, (7, 3): 1, (7, 4): 0, (7, 5): 0, (7, 6): 1, (7, 8): 1, (7, 9): 0, (7, 10): 0, (7, 11): 0, (7, 12): 0, (7, 13): 0, (7, 14): 0, (8, 1): 0, (8, 2): 1, (8, 3): 0, (8, 4): 0, (8, 5): 1, (8, 6): 0, (8, 7): 1, (8, 9): 0, (8, 10): 1, (8, 11): 0, (8, 12): 0, (8, 13): 0, (8, 14): 0, (9, 1): 0, (9, 2): 0, (9, 3): 0, (9, 4): 0, (9, 5): 0, (9, 6): 1, (9, 7): 0, (9, 8): 0, (9, 10): 1, (9, 11): 1, (9, 12): 0, (9, 13): 0, (9, 14): 0, (10, 1): 0, (10, 2): 0, (10, 3): 0, (10, 4): 0, (10, 5): 0, (10, 6): 0, (10, 7): 0, (10, 8): 1, (10, 9): 1, (10, 11): 0, (10, 12): 1, (10, 13): 0, (10, 14): 0, (11, 1): 0, (11, 2): 0, (11, 3): 0, (11, 4): 0, (11, 5): 0, (11, 6): 0, (11, 7): 0, (11, 8): 0, (11, 9): 1, (11, 10): 0, (11, 12): 1, (11, 13): 0, (11, 14): 0, (12, 1): 0, (12, 2): 0, (12, 3): 0, (12, 4): 0, (12, 5): 0, (12, 6): 0, (12, 7): 0, (12, 8): 0, (12, 9): 0, (12, 10): 1, (12, 11): 1, (12, 13): 1, (12, 14): 0, (13, 1): 1, (13, 2): 0, (13, 3): 0, (13, 4): 0, (13, 5): 0, (13, 6): 0, (13, 7): 0, (13, 8): 0, (13, 9): 0, (13, 10): 0, (13, 11): 0, (13, 12): 1, (13, 14): 1, (14, 1): 0, (14, 2): 0, (14, 3): 0, (14, 4): 0, (14, 5): 0, (14, 6): 0, (14, 7): 0, (14, 8): 0, (14, 9): 0, (14, 10): 0, (14, 11): 0, (14, 12): 0, (14, 13): 1}\n"
     ]
    }
   ],
   "source": [
    "g = napraviGraf(\"graf-14.txt\")\n",
    "\n",
    "dictE= create_adjacency_dict(g)\n",
    "Eweak = dict(sorted(dictE.items()))\n",
    "\n",
    "V=[*range(1,len(g)+1,1)]\n",
    "\n",
    "print(Eweak)\n"
   ]
  },
  {
   "cell_type": "markdown",
   "id": "44019ba3",
   "metadata": {},
   "source": []
  },
  {
   "cell_type": "code",
   "execution_count": 15,
   "id": "5301aed4-0562-4f04-ab15-04708deb8ba8",
   "metadata": {},
   "outputs": [
    {
     "name": "stdout",
     "output_type": "stream",
     "text": [
      "Selected: [2, 3, 10, 13]\n"
     ]
    },
    {
     "ename": "KeyboardInterrupt",
     "evalue": "",
     "output_type": "error",
     "traceback": [
      "\u001b[1;31m---------------------------------------------------------------------------\u001b[0m",
      "\u001b[1;31mKeyboardInterrupt\u001b[0m                         Traceback (most recent call last)",
      "Cell \u001b[1;32mIn[15], line 44\u001b[0m\n\u001b[0;32m     42\u001b[0m selected \u001b[39m=\u001b[39m [u \u001b[39mfor\u001b[39;00m u, var \u001b[39min\u001b[39;00m y\u001b[39m.\u001b[39mitems() \u001b[39mif\u001b[39;00m var\u001b[39m.\u001b[39mvarValue \u001b[39m==\u001b[39m \u001b[39m1\u001b[39m]\n\u001b[0;32m     43\u001b[0m \u001b[39mprint\u001b[39m(\u001b[39m\"\u001b[39m\u001b[39mSelected:\u001b[39m\u001b[39m\"\u001b[39m, selected)\n\u001b[1;32m---> 44\u001b[0m \u001b[39mprint\u001b[39;49m(model)\n",
      "File \u001b[1;32m~\\AppData\\Local\\Packages\\PythonSoftwareFoundation.Python.3.11_qbz5n2kfra8p0\\LocalCache\\local-packages\\Python311\\site-packages\\pulp\\pulp.py:1387\u001b[0m, in \u001b[0;36mLpProblem.__repr__\u001b[1;34m(self)\u001b[0m\n\u001b[0;32m   1385\u001b[0m     s \u001b[39m+\u001b[39m\u001b[39m=\u001b[39m \u001b[39m\"\u001b[39m\u001b[39mSUBJECT TO\u001b[39m\u001b[39m\\n\u001b[39;00m\u001b[39m\"\u001b[39m\n\u001b[0;32m   1386\u001b[0m     \u001b[39mfor\u001b[39;00m n, c \u001b[39min\u001b[39;00m \u001b[39mself\u001b[39m\u001b[39m.\u001b[39mconstraints\u001b[39m.\u001b[39mitems():\n\u001b[1;32m-> 1387\u001b[0m         s \u001b[39m+\u001b[39m\u001b[39m=\u001b[39m c\u001b[39m.\u001b[39;49masCplexLpConstraint(n) \u001b[39m+\u001b[39m \u001b[39m\"\u001b[39m\u001b[39m\\n\u001b[39;00m\u001b[39m\"\u001b[39m\n\u001b[0;32m   1388\u001b[0m s \u001b[39m+\u001b[39m\u001b[39m=\u001b[39m \u001b[39m\"\u001b[39m\u001b[39mVARIABLES\u001b[39m\u001b[39m\\n\u001b[39;00m\u001b[39m\"\u001b[39m\n\u001b[0;32m   1389\u001b[0m \u001b[39mfor\u001b[39;00m v \u001b[39min\u001b[39;00m \u001b[39mself\u001b[39m\u001b[39m.\u001b[39mvariables():\n",
      "File \u001b[1;32m~\\AppData\\Local\\Packages\\PythonSoftwareFoundation.Python.3.11_qbz5n2kfra8p0\\LocalCache\\local-packages\\Python311\\site-packages\\pulp\\pulp.py:1079\u001b[0m, in \u001b[0;36mLpConstraint.asCplexLpConstraint\u001b[1;34m(self, name)\u001b[0m\n\u001b[0;32m   1076\u001b[0m         s \u001b[39m+\u001b[39m\u001b[39m=\u001b[39m \u001b[39m\"\u001b[39m\u001b[39m \u001b[39m\u001b[39m\"\u001b[39m \u001b[39m+\u001b[39m const\u001b[39m.\u001b[39mLpConstraintSenses[\u001b[39mself\u001b[39m\u001b[39m.\u001b[39msense] \u001b[39m+\u001b[39m \u001b[39m\"\u001b[39m\u001b[39m \u001b[39m\u001b[39m\"\u001b[39m \u001b[39m+\u001b[39m \u001b[39mstr\u001b[39m(\u001b[39m-\u001b[39m\u001b[39mself\u001b[39m\u001b[39m.\u001b[39mconstant)\n\u001b[0;32m   1077\u001b[0m     \u001b[39mreturn\u001b[39;00m s\n\u001b[1;32m-> 1079\u001b[0m \u001b[39mdef\u001b[39;00m \u001b[39masCplexLpConstraint\u001b[39m(\u001b[39mself\u001b[39m, name):\n\u001b[0;32m   1080\u001b[0m \u001b[39m    \u001b[39m\u001b[39m\"\"\"\u001b[39;00m\n\u001b[0;32m   1081\u001b[0m \u001b[39m    Returns a constraint as a string\u001b[39;00m\n\u001b[0;32m   1082\u001b[0m \u001b[39m    \"\"\"\u001b[39;00m\n\u001b[0;32m   1083\u001b[0m     result, line \u001b[39m=\u001b[39m \u001b[39mself\u001b[39m\u001b[39m.\u001b[39masCplexVariablesOnly(name)\n",
      "\u001b[1;31mKeyboardInterrupt\u001b[0m: "
     ]
    }
   ],
   "source": [
    "\n",
    "# model - problem minimizacije\n",
    "model = LpProblem(\"MinimumWeaklyConnectedDominatingSet\", LpMinimize)\n",
    "\n",
    "# varijable\n",
    "x = LpVariable.dicts(\"x\", Eweak, 0, 1, LpBinary)\n",
    "y = LpVariable.dicts(\"y\", V , 0, 1, LpBinary)\n",
    "\n",
    "# funkcija cilja\n",
    "model += 1 + lpSum( x [ (u, v) ]  for (u, v) in Eweak )\n",
    "\n",
    "# ogranicenja 1, 2 i 3\n",
    "for u in V:\n",
    "    for v in V:\n",
    "        if u!=v:\n",
    "            model += x[ (u, v) ] <= Eweak[u,v]\n",
    "            model += x[ (u, v) ] == x[ (v, u) ]\n",
    "            model += y[u] + y[v] >= 2*x[ (u, v) ]\n",
    "\n",
    "# ogranicenje 4\n",
    "for S in powerset(V):\n",
    "    for u in S:\n",
    "        for v in S:\n",
    "            if u!=v and len(S)>2:\n",
    "                model += lpSum( x[ (u, v) ] ) <= len(S)-1\n",
    "\n",
    "# ogranicenje 5\n",
    "for u in V:\n",
    "    for v in V:\n",
    "        if u!=v:\n",
    "            model += lpSum( x[ (u,v) ]) == lpSum( y[t] for t in V) - 1\n",
    "\n",
    "# ogranicenje 6\n",
    "for v in V:\n",
    "    for t in neighbors(v): \n",
    "        model += lpSum( y[t] ) >= 1\n",
    "\n",
    "\n",
    "# rjesavanje\n",
    "model.solve()\n",
    "\n",
    "# ispis DS\n",
    "selected = [u for u, var in y.items() if var.varValue == 1]\n",
    "print(\"Selected:\", selected)\n",
    "\n",
    "\n",
    "\n"
   ]
  },
  {
   "cell_type": "code",
   "execution_count": null,
   "id": "36353949-8c19-4129-825d-e3693c69304f",
   "metadata": {},
   "outputs": [],
   "source": []
  },
  {
   "cell_type": "code",
   "execution_count": null,
   "id": "4be3527d-c24e-4015-ae67-49f6593f6044",
   "metadata": {},
   "outputs": [],
   "source": []
  }
 ],
 "metadata": {
  "kernelspec": {
   "display_name": "Python 3 (ipykernel)",
   "language": "python",
   "name": "python3"
  },
  "language_info": {
   "codemirror_mode": {
    "name": "ipython",
    "version": 3
   },
   "file_extension": ".py",
   "mimetype": "text/x-python",
   "name": "python",
   "nbconvert_exporter": "python",
   "pygments_lexer": "ipython3",
   "version": "3.11.5"
  }
 },
 "nbformat": 4,
 "nbformat_minor": 5
}
