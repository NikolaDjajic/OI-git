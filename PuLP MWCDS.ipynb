{
 "cells": [
  {
   "cell_type": "code",
   "execution_count": 49,
   "id": "bd806f64-c224-4e28-8c39-7ef210cd3785",
   "metadata": {},
   "outputs": [],
   "source": [
    "from pulp import *\n",
    "from itertools import chain, combinations\n",
    "import time\n",
    "%run pravljenjeGrafova.ipynb\n",
    "\n",
    "\n",
    "# funkcija za podskupove\n",
    "def powerset(iterable):\n",
    "    s = list(iterable)\n",
    "    return chain.from_iterable(combinations(s, r) for r in range(len(s)+1))\n",
    "\n",
    "\n",
    "# funkcija za susjede\n",
    "def neighbors(x):\n",
    "    n = []\n",
    "    for (i,j) in Eweak:\n",
    "        if i==x and Eweak[i,j] == 1:\n",
    "            n.append(j)\n",
    "    return n\n",
    "\n",
    "\n",
    "# susjedstvo\n",
    "def create_adjacency_dict(graph):\n",
    "    adjacency_dict = {}\n",
    "    \n",
    "    for vertex, neighbors in graph.items():\n",
    "        for neighbor in neighbors:\n",
    "            if int(vertex)!=int(neighbor):\n",
    "                adjacency_dict[(int(vertex), int(neighbor))] = 1\n",
    "    \n",
    "    for vertex in graph:\n",
    "        for other_vertex in graph:\n",
    "            if (int(vertex), int(other_vertex)) not in adjacency_dict and int(vertex)!=int(other_vertex) :\n",
    "                adjacency_dict[(int(vertex), int(other_vertex))] = 0\n",
    "    \n",
    "    return adjacency_dict\n",
    "            \n",
    "    "
   ]
  },
  {
   "cell_type": "code",
   "execution_count": 50,
   "id": "f6bb0fa3",
   "metadata": {},
   "outputs": [
    {
     "name": "stdout",
     "output_type": "stream",
     "text": [
      "{(1, 2): 1, (1, 3): 1, (1, 4): 0, (1, 5): 0, (1, 6): 0, (1, 7): 0, (1, 8): 0, (1, 9): 0, (1, 10): 0, (1, 11): 0, (1, 12): 0, (1, 13): 1, (1, 14): 1, (2, 1): 1, (2, 3): 1, (2, 4): 1, (2, 5): 1, (2, 6): 1, (2, 7): 1, (2, 8): 1, (2, 9): 0, (2, 10): 0, (2, 11): 0, (2, 12): 0, (2, 13): 0, (2, 14): 0, (3, 1): 1, (3, 2): 1, (3, 4): 0, (3, 5): 0, (3, 6): 1, (3, 7): 1, (3, 8): 0, (3, 9): 0, (3, 10): 0, (3, 11): 0, (3, 12): 0, (3, 13): 0, (3, 14): 0, (4, 1): 0, (4, 2): 1, (4, 3): 0, (4, 5): 1, (4, 6): 0, (4, 7): 0, (4, 8): 0, (4, 9): 0, (4, 10): 0, (4, 11): 0, (4, 12): 0, (4, 13): 0, (4, 14): 0, (5, 1): 0, (5, 2): 1, (5, 3): 0, (5, 4): 1, (5, 6): 0, (5, 7): 0, (5, 8): 1, (5, 9): 0, (5, 10): 0, (5, 11): 0, (5, 12): 0, (5, 13): 0, (5, 14): 0, (6, 1): 0, (6, 2): 1, (6, 3): 1, (6, 4): 0, (6, 5): 0, (6, 7): 1, (6, 8): 0, (6, 9): 1, (6, 10): 0, (6, 11): 0, (6, 12): 0, (6, 13): 0, (6, 14): 0, (7, 1): 0, (7, 2): 1, (7, 3): 1, (7, 4): 0, (7, 5): 0, (7, 6): 1, (7, 8): 1, (7, 9): 0, (7, 10): 0, (7, 11): 0, (7, 12): 0, (7, 13): 0, (7, 14): 0, (8, 1): 0, (8, 2): 1, (8, 3): 0, (8, 4): 0, (8, 5): 1, (8, 6): 0, (8, 7): 1, (8, 9): 0, (8, 10): 1, (8, 11): 0, (8, 12): 0, (8, 13): 0, (8, 14): 0, (9, 1): 0, (9, 2): 0, (9, 3): 0, (9, 4): 0, (9, 5): 0, (9, 6): 1, (9, 7): 0, (9, 8): 0, (9, 10): 1, (9, 11): 1, (9, 12): 0, (9, 13): 0, (9, 14): 0, (10, 1): 0, (10, 2): 0, (10, 3): 0, (10, 4): 0, (10, 5): 0, (10, 6): 0, (10, 7): 0, (10, 8): 1, (10, 9): 1, (10, 11): 0, (10, 12): 1, (10, 13): 0, (10, 14): 0, (11, 1): 0, (11, 2): 0, (11, 3): 0, (11, 4): 0, (11, 5): 0, (11, 6): 0, (11, 7): 0, (11, 8): 0, (11, 9): 1, (11, 10): 0, (11, 12): 1, (11, 13): 0, (11, 14): 0, (12, 1): 0, (12, 2): 0, (12, 3): 0, (12, 4): 0, (12, 5): 0, (12, 6): 0, (12, 7): 0, (12, 8): 0, (12, 9): 0, (12, 10): 1, (12, 11): 1, (12, 13): 1, (12, 14): 0, (13, 1): 1, (13, 2): 0, (13, 3): 0, (13, 4): 0, (13, 5): 0, (13, 6): 0, (13, 7): 0, (13, 8): 0, (13, 9): 0, (13, 10): 0, (13, 11): 0, (13, 12): 1, (13, 14): 1, (14, 1): 0, (14, 2): 0, (14, 3): 0, (14, 4): 0, (14, 5): 0, (14, 6): 0, (14, 7): 0, (14, 8): 0, (14, 9): 0, (14, 10): 0, (14, 11): 0, (14, 12): 0, (14, 13): 1}\n"
     ]
    }
   ],
   "source": [
    "g = napraviGraf(\"veoma mali grafovi/graf-14.txt\")\n",
    "\n",
    "dictE= create_adjacency_dict(g)\n",
    "Eweak = dict(sorted(dictE.items()))\n",
    "\n",
    "V=[*range(1,len(g)+1,1)]\n",
    "\n",
    "print(Eweak)\n"
   ]
  },
  {
   "cell_type": "markdown",
   "id": "44019ba3",
   "metadata": {},
   "source": []
  },
  {
   "cell_type": "code",
   "execution_count": 51,
   "id": "5301aed4-0562-4f04-ab15-04708deb8ba8",
   "metadata": {},
   "outputs": [
    {
     "name": "stdout",
     "output_type": "stream",
     "text": [
      "Selected: [2, 3, 10, 13]\n",
      "Selected edges  [(1, 2), (1, 3), (1, 4), (1, 5), (1, 6), (1, 7), (1, 8), (1, 9), (1, 10), (1, 11), (1, 12), (1, 13), (1, 14), (2, 1), (2, 3), (2, 4), (2, 5), (2, 6), (2, 7), (2, 8), (2, 9), (2, 10), (2, 11), (2, 12), (2, 13), (2, 14), (3, 1), (3, 2), (3, 4), (3, 5), (3, 6), (3, 7), (3, 8), (3, 9), (3, 10), (3, 11), (3, 12), (3, 13), (3, 14), (4, 1), (4, 2), (4, 3), (4, 5), (4, 6), (4, 7), (4, 8), (4, 9), (4, 10), (4, 11), (4, 12), (4, 13), (4, 14), (5, 1), (5, 2), (5, 3), (5, 4), (5, 6), (5, 7), (5, 8), (5, 9), (5, 10), (5, 11), (5, 12), (5, 13), (5, 14), (6, 1), (6, 2), (6, 3), (6, 4), (6, 5), (6, 7), (6, 8), (6, 9), (6, 10), (6, 11), (6, 12), (6, 13), (6, 14), (7, 1), (7, 2), (7, 3), (7, 4), (7, 5), (7, 6), (7, 8), (7, 9), (7, 10), (7, 11), (7, 12), (7, 13), (7, 14), (8, 1), (8, 2), (8, 3), (8, 4), (8, 5), (8, 6), (8, 7), (8, 9), (8, 10), (8, 11), (8, 12), (8, 13), (8, 14), (9, 1), (9, 2), (9, 3), (9, 4), (9, 5), (9, 6), (9, 7), (9, 8), (9, 10), (9, 11), (9, 12), (9, 13), (9, 14), (10, 1), (10, 2), (10, 3), (10, 4), (10, 5), (10, 6), (10, 7), (10, 8), (10, 9), (10, 11), (10, 12), (10, 13), (10, 14), (11, 1), (11, 2), (11, 3), (11, 4), (11, 5), (11, 6), (11, 7), (11, 8), (11, 9), (11, 10), (11, 12), (11, 13), (11, 14), (12, 1), (12, 2), (12, 3), (12, 4), (12, 5), (12, 6), (12, 7), (12, 8), (12, 9), (12, 10), (12, 11), (12, 13), (12, 14), (13, 1), (13, 2), (13, 3), (13, 4), (13, 5), (13, 6), (13, 7), (13, 8)]\n",
      "Selected: 4\n",
      "--- 30.097530126571655 sekundi ---\n"
     ]
    }
   ],
   "source": [
    "\n",
    "# model - problem minimizacije\n",
    "startTime = time.time()\n",
    "model = LpProblem(\"MinimumWeaklyConnectedDominatingSet\", LpMinimize)\n",
    "\n",
    "# varijable\n",
    "x = LpVariable.dicts(\"x\", Eweak, 0, 1, LpBinary)\n",
    "y = LpVariable.dicts(\"y\", V , 0, 1, LpBinary)\n",
    "\n",
    "# funkcija cilja\n",
    "model += 1 + lpSum( x [ (u, v) ]  for (u, v) in Eweak )\n",
    "\n",
    "# ogranicenja 1, 2 i 3\n",
    "for u in V:\n",
    "    for v in V:\n",
    "        if u!=v:\n",
    "            model += x[ (u, v) ] <= Eweak[u,v]\n",
    "            model += x[ (u, v) ] == x[ (v, u) ]\n",
    "            model += y[u] + y[v] >= 2*x[ (u, v) ]\n",
    "\n",
    "# ogranicenje 4\n",
    "for S in powerset(V):\n",
    "    for u in S:\n",
    "        for v in S:\n",
    "            if u!=v and len(S)>2:\n",
    "                model += lpSum( x[ (u, v) ] ) <= len(S)-1\n",
    "\n",
    "# ogranicenje 5\n",
    "for u in V:\n",
    "    for v in V:\n",
    "        if u!=v:\n",
    "            model += lpSum( x[ (u,v) ]) == lpSum( y[t] for t in V) - 1\n",
    "\n",
    "# ogranicenje 6\n",
    "for v in V:\n",
    "    for t in neighbors(v): \n",
    "        model += lpSum( y[t] ) >= 1\n",
    "\n",
    "\n",
    "# rjesavanje\n",
    "\n",
    "#model.solve(PULP_CBC_CMD(msg=1, maxSeconds=time_limit_in_seconds))\n",
    "model.solve(PULP_CBC_CMD(maxSeconds=600, msg=1, fracGap=0))\n",
    "\n",
    "\n",
    "# ispis DS\n",
    "selected = [u for u, var in y.items() if var.varValue == 1]\n",
    "selectedE = [u for u, var in x.items() if var.varValue == 3]\n",
    "print(\"Selected:\",selected)\n",
    "print(\"Selected edges \",selectedE )\n",
    "print(\"Selected:\", len(selected))\n",
    "print(\"--- %s sekundi ---\" % (time.time() - startTime))\n",
    "\n",
    "\n",
    "\n"
   ]
  },
  {
   "cell_type": "code",
   "execution_count": null,
   "id": "36353949-8c19-4129-825d-e3693c69304f",
   "metadata": {},
   "outputs": [],
   "source": []
  },
  {
   "cell_type": "code",
   "execution_count": null,
   "id": "4be3527d-c24e-4015-ae67-49f6593f6044",
   "metadata": {},
   "outputs": [],
   "source": []
  }
 ],
 "metadata": {
  "kernelspec": {
   "display_name": "Python 3 (ipykernel)",
   "language": "python",
   "name": "python3"
  },
  "language_info": {
   "codemirror_mode": {
    "name": "ipython",
    "version": 3
   },
   "file_extension": ".py",
   "mimetype": "text/x-python",
   "name": "python",
   "nbconvert_exporter": "python",
   "pygments_lexer": "ipython3",
   "version": "3.11.5"
  }
 },
 "nbformat": 4,
 "nbformat_minor": 5
}
